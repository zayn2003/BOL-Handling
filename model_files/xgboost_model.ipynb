{
 "cells": [
  {
   "cell_type": "code",
   "execution_count": 5,
   "metadata": {},
   "outputs": [
    {
     "name": "stdout",
     "output_type": "stream",
     "text": [
      "XGBoost Accuracy: 0.8316\n",
      "\n",
      "Classification Report:\n",
      "                        precision    recall  f1-score   support\n",
      "\n",
      "            ACCOUNTANT       0.84      0.89      0.86        18\n",
      "              ADVOCATE       0.81      0.81      0.81        32\n",
      "           AGRICULTURE       0.89      0.76      0.82        21\n",
      "               APPAREL       0.69      0.64      0.67        14\n",
      "                  ARTS       0.85      0.68      0.76        25\n",
      "            AUTOMOBILE       0.78      0.91      0.84        23\n",
      "              AVIATION       0.81      0.84      0.82        25\n",
      "               BANKING       0.68      0.65      0.67        20\n",
      "                   BPO       0.91      0.95      0.93        22\n",
      "  BUSINESS-DEVELOPMENT       0.94      0.89      0.91        18\n",
      "                  CHEF       1.00      0.94      0.97        35\n",
      "          CONSTRUCTION       0.85      0.96      0.90        23\n",
      "            CONSULTANT       0.70      0.78      0.74        18\n",
      "              DESIGNER       0.89      0.96      0.93        26\n",
      "         DIGITAL-MEDIA       0.74      0.68      0.71        25\n",
      "           ENGINEERING       0.91      0.91      0.91        33\n",
      "               FINANCE       0.88      0.74      0.80        19\n",
      "               FITNESS       0.80      0.83      0.82        24\n",
      "            HEALTHCARE       0.84      0.57      0.68        28\n",
      "                    HR       0.69      0.95      0.80        21\n",
      "INFORMATION-TECHNOLOGY       0.77      0.96      0.86        28\n",
      "      PUBLIC-RELATIONS       0.88      0.65      0.75        23\n",
      "                 SALES       0.72      0.84      0.78        25\n",
      "               TEACHER       1.00      0.97      0.98        30\n",
      "\n",
      "              accuracy                           0.83       576\n",
      "             macro avg       0.83      0.82      0.82       576\n",
      "          weighted avg       0.84      0.83      0.83       576\n",
      "\n"
     ]
    }
   ],
   "source": [
    "import pandas as pd\n",
    "import numpy as np\n",
    "from sklearn.model_selection import train_test_split, GridSearchCV\n",
    "from sklearn.feature_extraction.text import TfidfVectorizer\n",
    "from sklearn.metrics import classification_report, accuracy_score\n",
    "from imblearn.over_sampling import SMOTE\n",
    "from xgboost import XGBClassifier\n",
    "from sklearn.preprocessing import LabelEncoder\n",
    "from nltk.corpus import stopwords\n",
    "from nltk.stem import WordNetLemmatizer\n",
    "import re\n",
    "import nltk\n",
    "import joblib\n",
    "\n",
    "nltk.download('stopwords', quiet=True)\n",
    "nltk.download('wordnet', quiet=True)\n",
    "\n",
    "# Load data\n",
    "df = pd.read_csv('../dataset/Resume.csv')\n",
    "\n",
    "# Advanced text preprocessing\n",
    "def preprocess_text(text):\n",
    "    text = text.lower()\n",
    "    text = re.sub(r'[^a-zA-Z\\s]', '', text)\n",
    "    tokens = text.split()\n",
    "    stop_words = set(stopwords.words('english'))\n",
    "    tokens = [token for token in tokens if token not in stop_words]\n",
    "    lemmatizer = WordNetLemmatizer()\n",
    "    tokens = [lemmatizer.lemmatize(token) for token in tokens]\n",
    "    return ' '.join(tokens)\n",
    "\n",
    "df['resume_processed'] = df['Resume_str'].apply(preprocess_text)\n",
    "\n",
    "# Feature extraction\n",
    "vectorizer = TfidfVectorizer(max_features=5000, ngram_range=(1, 2))\n",
    "X = vectorizer.fit_transform(df['resume_processed'])\n",
    "\n",
    "# Define target variable and encode labels\n",
    "label_encoder = LabelEncoder()\n",
    "y = label_encoder.fit_transform(df['Category'])\n",
    "\n",
    "# # Address class imbalance\n",
    "smote = SMOTE(random_state=42)\n",
    "X_res, y_res = smote.fit_resample(X, y)\n",
    "\n",
    "# Split data\n",
    "X_train, X_test, y_train, y_test = train_test_split(X_res, y_res, test_size=0.2, random_state=42)\n",
    "\n",
    "# Train the XGBoost model\n",
    "xgb = XGBClassifier(random_state=42)\n",
    "xgb.fit(X_train, y_train)\n",
    "\n",
    "# Evaluate the model\n",
    "y_pred = xgb.predict(X_test)\n",
    "accuracy = accuracy_score(y_test, y_pred)\n",
    "print(f\"XGBoost Accuracy: {accuracy:.4f}\")\n",
    "\n",
    "print(\"\\nClassification Report:\")\n",
    "print(classification_report(y_test, y_pred, target_names=label_encoder.classes_))\n"
   ]
  },
  {
   "cell_type": "code",
   "execution_count": 7,
   "metadata": {},
   "outputs": [
    {
     "data": {
      "text/plain": [
       "['../pkl/label_encoder.pkl']"
      ]
     },
     "execution_count": 7,
     "metadata": {},
     "output_type": "execute_result"
    }
   ],
   "source": [
    "joblib.dump(xgb, '../pkl/xgb_model.pkl')\n",
    "joblib.dump(vectorizer, '../pkl/vectorizer.pkl')\n",
    "joblib.dump(label_encoder, '../pkl/label_encoder.pkl')"
   ]
  },
  {
   "cell_type": "code",
   "execution_count": 6,
   "metadata": {},
   "outputs": [
    {
     "name": "stderr",
     "output_type": "stream",
     "text": [
      "c:\\Python312\\Lib\\site-packages\\xgboost\\core.py:158: UserWarning: [19:03:23] WARNING: C:\\buildkite-agent\\builds\\buildkite-windows-cpu-autoscaling-group-i-06abd128ca6c1688d-1\\xgboost\\xgboost-ci-windows\\src\\learner.cc:740: \n",
      "Parameters: { \"enable_categorical\", \"missing\", \"n_estimators\" } are not used.\n",
      "\n",
      "  warnings.warn(smsg, UserWarning)\n"
     ]
    },
    {
     "name": "stdout",
     "output_type": "stream",
     "text": [
      "\n",
      "Best Model (XGBoost) Accuracy: 0.8438\n",
      "\n",
      "Classification Report:\n",
      "                        precision    recall  f1-score   support\n",
      "\n",
      "            ACCOUNTANT       0.84      0.89      0.86        18\n",
      "              ADVOCATE       0.87      0.81      0.84        32\n",
      "           AGRICULTURE       0.88      0.71      0.79        21\n",
      "               APPAREL       0.64      0.64      0.64        14\n",
      "                  ARTS       0.76      0.64      0.70        25\n",
      "            AUTOMOBILE       0.91      0.87      0.89        23\n",
      "              AVIATION       0.85      0.88      0.86        25\n",
      "               BANKING       0.74      0.70      0.72        20\n",
      "                   BPO       1.00      0.95      0.98        22\n",
      "  BUSINESS-DEVELOPMENT       0.89      0.94      0.92        18\n",
      "                  CHEF       0.97      0.97      0.97        35\n",
      "          CONSTRUCTION       0.85      0.96      0.90        23\n",
      "            CONSULTANT       0.67      0.89      0.76        18\n",
      "              DESIGNER       0.89      0.96      0.93        26\n",
      "         DIGITAL-MEDIA       0.75      0.72      0.73        25\n",
      "           ENGINEERING       0.91      0.94      0.93        33\n",
      "               FINANCE       0.89      0.84      0.86        19\n",
      "               FITNESS       0.83      0.83      0.83        24\n",
      "            HEALTHCARE       0.90      0.68      0.78        28\n",
      "                    HR       0.75      0.86      0.80        21\n",
      "INFORMATION-TECHNOLOGY       0.79      0.96      0.87        28\n",
      "      PUBLIC-RELATIONS       0.82      0.61      0.70        23\n",
      "                 SALES       0.78      0.84      0.81        25\n",
      "               TEACHER       0.91      0.97      0.94        30\n",
      "\n",
      "              accuracy                           0.84       576\n",
      "             macro avg       0.84      0.84      0.83       576\n",
      "          weighted avg       0.85      0.84      0.84       576\n",
      "\n"
     ]
    }
   ],
   "source": [
    "from xgboost import DMatrix, train\n",
    "\n",
    "# Fine-tuning with Grid Search\n",
    "param_grid = {\n",
    "    'n_estimators': [200, 300],\n",
    "    'learning_rate': [0.1, 0.2],\n",
    "    'max_depth': [3, 4],\n",
    "    'subsample': [0.8, 1.0]\n",
    "}\n",
    "\n",
    "grid_search = GridSearchCV(estimator=xgb, param_grid=param_grid, cv=3, n_jobs=-1, scoring='accuracy')\n",
    "grid_search.fit(X_train, y_train)\n",
    "\n",
    "# Evaluate the fine-tuned model\n",
    "best_xgb = grid_search.best_estimator_\n",
    "dtrain = DMatrix(X_train, label=y_train)\n",
    "dtest = DMatrix(X_test, label=y_test)\n",
    "\n",
    "params = best_xgb.get_params()\n",
    "params['num_class'] = len(np.unique(y_train))  # Add num_class parameter\n",
    "\n",
    "# Train the model with early stopping\n",
    "best_xgb_model = train(params, dtrain, num_boost_round=params['n_estimators'], early_stopping_rounds=10, evals=[(dtest, 'eval')], verbose_eval=False)\n",
    "\n",
    "# Predictions with the fine-tuned model\n",
    "y_pred = best_xgb_model.predict(dtest)\n",
    "y_pred = np.argmax(y_pred, axis=1)\n",
    "accuracy = accuracy_score(y_test, y_pred)\n",
    "print(f\"\\nBest Model (XGBoost) Accuracy: {accuracy:.4f}\")\n",
    "print(\"\\nClassification Report:\")\n",
    "print(classification_report(y_test, y_pred, target_names=label_encoder.classes_))"
   ]
  },
  {
   "cell_type": "code",
   "execution_count": 7,
   "metadata": {},
   "outputs": [
    {
     "data": {
      "text/plain": [
       "['../pkl/best_xgb_model.pkl']"
      ]
     },
     "execution_count": 7,
     "metadata": {},
     "output_type": "execute_result"
    }
   ],
   "source": [
    "joblib.dump(xgb, '../pkl/best_xgb_model.pkl')"
   ]
  }
 ],
 "metadata": {
  "kernelspec": {
   "display_name": "Python 3",
   "language": "python",
   "name": "python3"
  },
  "language_info": {
   "codemirror_mode": {
    "name": "ipython",
    "version": 3
   },
   "file_extension": ".py",
   "mimetype": "text/x-python",
   "name": "python",
   "nbconvert_exporter": "python",
   "pygments_lexer": "ipython3",
   "version": "3.12.3"
  }
 },
 "nbformat": 4,
 "nbformat_minor": 2
}
